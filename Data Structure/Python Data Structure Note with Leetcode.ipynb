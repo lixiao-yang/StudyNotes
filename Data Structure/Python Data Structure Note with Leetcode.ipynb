{
 "cells": [
  {
   "cell_type": "markdown",
   "metadata": {},
   "source": [
    "# Python Data Structure Note with LeetCode\n",
    "\n",
    "Lixiao Yang\n",
    "\n",
    "**Reference**\n",
    "- Algorithm Handbook by ITCharge: https://algo.itcharge.cn/\n",
    "## 1. Array\n",
    "### 1.1 Array Fundamentals\n",
    "\n",
    "#### 1.1.1 Array Fundamentals\n",
    "\n",
    "**Understanding for the definition of array**:\n",
    "1. Linear table\n",
    "2. Consecutive memory space\n",
    "\n",
    "**Main Character**:  \n",
    "Array can be accessed randomly. That is, the array can be directly located to the location of an element according to the subscript.\n",
    "\n",
    "Five Operations for Array: access, find, insert, change, delete:"
   ]
  },
  {
   "cell_type": "code",
   "execution_count": 3,
   "metadata": {},
   "outputs": [
    {
     "name": "stdout",
     "output_type": "stream",
     "text": [
      "3\n"
     ]
    }
   ],
   "source": [
    "arr = [0, 5, 2, 3, 7, 1, 6]\n",
    "\n",
    "# Access element\n",
    "def value(nums, i):\n",
    "    if 0 <= i <= len(nums) - 1:\n",
    "        print(nums[i])\n",
    "    \n",
    "value(arr, 3)"
   ]
  },
  {
   "cell_type": "code",
   "execution_count": 4,
   "metadata": {},
   "outputs": [
    {
     "name": "stdout",
     "output_type": "stream",
     "text": [
      "1\n"
     ]
    }
   ],
   "source": [
    "# Find an element\n",
    "def find(nums, val):\n",
    "    for i in range(len(nums)):\n",
    "        if nums[i] == val:\n",
    "            return i\n",
    "    return -1\n",
    "\n",
    "print(find(arr, 5))"
   ]
  },
  {
   "cell_type": "code",
   "execution_count": 5,
   "metadata": {},
   "outputs": [
    {
     "data": {
      "text/plain": [
       "[0, 5, 2, 99, 3, 7, 1, 6, 10]"
      ]
     },
     "execution_count": 5,
     "metadata": {},
     "output_type": "execute_result"
    }
   ],
   "source": [
    "# Insert an element\n",
    "val = 10\n",
    "arr.append(val)\n",
    "\n",
    "i, val_2 = 3, 99\n",
    "arr.insert(i, val_2)\n",
    "\n",
    "arr"
   ]
  },
  {
   "cell_type": "code",
   "execution_count": 6,
   "metadata": {},
   "outputs": [
    {
     "name": "stdout",
     "output_type": "stream",
     "text": [
      "[0, 5, 4, 3, 7, 1, 6]\n"
     ]
    }
   ],
   "source": [
    "# Change an element\n",
    "def change(nums, i, val):\n",
    "    if 0 <= i <= len(nums) - 1:\n",
    "        nums[i] = val\n",
    "        \n",
    "arr = [0, 5, 2, 3, 7, 1, 6]\n",
    "i, val = 2, 4\n",
    "change(arr, i, val)\n",
    "print(arr)"
   ]
  },
  {
   "cell_type": "code",
   "execution_count": 7,
   "metadata": {},
   "outputs": [
    {
     "name": "stdout",
     "output_type": "stream",
     "text": [
      "[5, 4, 3, 2]\n",
      "[4, 3, 2, 1]\n",
      "[4, 3, 2, 1]\n"
     ]
    }
   ],
   "source": [
    "# Delete an element\n",
    "arr = [5, 4, 3, 2, 1]\n",
    "arr.pop()\n",
    "print(arr)\n",
    "\n",
    "arr = [5, 4, 3, 2, 1]\n",
    "i = 3\n",
    "arr.remove(5)\n",
    "print(arr)\n",
    "\n",
    "arr = [5, 4, 3, 2, 1]\n",
    "i = 3\n",
    "arr.remove(5)\n",
    "print(arr)"
   ]
  },
  {
   "cell_type": "markdown",
   "metadata": {},
   "source": [
    "#### 1.1.1.2 Array Fundamentals Questions Progress\n",
    "\n",
    "| Title | Difficulty |\n",
    "|---|---|\n",
    "|[66. Plus One](https://leetcode.com/problems/plus-one/)| Easy |\n",
    "|[724. Find Pivot Index](https://leetcode.com/problems/find-pivot-index/)| Easy |\n",
    "|[485. Max Consecutive Ones](https://leetcode.com/problems/max-consecutive-ones/)| Easy |"
   ]
  },
  {
   "cell_type": "markdown",
   "metadata": {},
   "source": [
    "### 1.2 Array Sort"
   ]
  },
  {
   "cell_type": "markdown",
   "metadata": {},
   "source": [
    "#### 1.2.1 Bubble Sort\n",
    "\n",
    "The first i (i = 1, 2, ...) is sorted starting from the first element of the first n - i + 1 elements in the sequence, two neighboring elements are compared, if the former is greater than the latter, the two are exchanged, otherwise they are not exchanged.\n",
    "\n",
    "![Bubble Sort](https://qcdn.itcharge.cn/images/20220812131649.gif)\n",
    "\n",
    "|Best Case Time Complexity|O(n)|\n",
    "|---|---|\n",
    "|Worst Case Time Complexity|O(n^2)|\n",
    "|Suitable for|multiple movements, smaller data volumes|\n",
    "|Stable sorting algorithm|T|\n",
    "\n",
    "**Code Implementation in Python**\n",
    "\n",
    "```python\n",
    "class Solution:\n",
    "    def bubbleSort(self, arr):\n",
    "        # The i-th pass\n",
    "        for i in range(len(arr) - 1):\n",
    "            # Starting from the first element in the remaining n - i - 1 elements\n",
    "            for j in range(len(arr) - i - 1):\n",
    "                # Compare adjacent elements, swap if needed\n",
    "                if arr[j] > arr[j + 1]:\n",
    "                    arr[j], arr[j + 1] = arr[j + 1], arr[j]\n",
    "        return arr\n",
    "\n",
    "    def sortArray(self, nums: List[int]) -> List[int]:\n",
    "        return self.bubbleSort(nums)\n",
    "```"
   ]
  },
  {
   "cell_type": "markdown",
   "metadata": {},
   "source": [
    "### 1.2.2 Selection Sort\n",
    "\n",
    "The sequence is divided into two parts: the first i - 1 elements are the sorted part and the next n - i + 1 elements are the unsorted part. The i-th sort selects the element with the smallest value from the n - i + 1 (i = 1, 2, ..., n - 1) elements of the unsorted part and exchanges its position with the top element of the unsorted part, i.e., with the element in the i-th position of the whole sequence. This continues until all the elements have been changed to the sorted part and the sorting is finished.\n",
    "\n",
    "![Selection](https://qcdn.itcharge.cn/images/20220812145555.gif)\n",
    "\n",
    "|Time Complexity| O(n^2)|\n",
    "|---|---|\n",
    "|Suitable for|smaller data volumes, only in high space complexity reqirements|\n",
    "|Stable sorting algorithm|F|\n",
    "\n",
    "```python\n",
    "class Solution:\n",
    "    def selectionSort(self, arr):\n",
    "        # Loop through all elements in the array except the last one\n",
    "        for i in range(len(arr) - 1):\n",
    "            # Record the position of the smallest element in the unsorted portion\n",
    "            min_i = i\n",
    "            # Loop through the remaining elements to find the smallest one\n",
    "            for j in range(i + 1, len(arr)):\n",
    "                if arr[j] < arr[min_i]:\n",
    "                    # Update the position of the smallest element\n",
    "                    min_i = j\n",
    "            # If the smallest element is found, swap it with the element at position i\n",
    "            if i != min_i:\n",
    "                arr[i], arr[min_i] = arr[min_i], arr[i]\n",
    "        return arr\n",
    "\n",
    "    def sortArray(self, nums: List[int]) -> List[int]:\n",
    "        # Sort the array using the selectionSort method\n",
    "        return self.selectionSort(nums)\n",
    "\n",
    "```"
   ]
  },
  {
   "cell_type": "markdown",
   "metadata": {},
   "source": [
    "### 1.2.3 Insertion Sort\n",
    "\n",
    "The whole sequence is divided into two parts: the first i elements are ordered sequence, and the next n - i elements are unordered sequence. Each time the sequence is sorted, the first element of the unordered sequence is inserted at the corresponding position in the ordered sequence.\n",
    "\n",
    "![insertion](https://qcdn.itcharge.cn/images/20220816143518.gif)\n",
    "\n",
    "|Best Case Time Complexity|O(n)|\n",
    "|---|---|\n",
    "|Worst Case Time Complexity|O(n^2)|\n",
    "|Average Time Complexity|O(n^2)|\n",
    "|Stable sorting algorithm|T|\n",
    "\n",
    "```python\n",
    "class Solution:\n",
    "    def insertionSort(self, arr):\n",
    "        # Loop through the unsorted portion of the array, starting from the second element\n",
    "        for i in range(1, len(arr)):\n",
    "            temp = arr[i]\n",
    "            j = i\n",
    "            # Traverse the sorted portion of the array from right to left\n",
    "            while j > 0 and arr[j - 1] > temp:\n",
    "                # Shift elements to the right of the insertion point one position to the right\n",
    "                arr[j] = arr[j - 1]\n",
    "                j -= 1\n",
    "            # Insert the element at the appropriate position\n",
    "            arr[j] = temp\n",
    "\n",
    "        return arr\n",
    "\n",
    "    def sortArray(self, nums: List[int]) -> List[int]:\n",
    "        # Sort the array using the insertionSort method\n",
    "        return self.insertionSort(nums)\n",
    "```"
   ]
  },
  {
   "cell_type": "markdown",
   "metadata": {},
   "source": [
    "### 1.2.4 Shell Sort\n",
    "\n",
    "The whole sequence is divided into a number of sub-sequences by taking values at certain intervals, and each sub-sequence is inserted separately. Then gradually reduce the interval for the next round of sub-sequence division and sub-sequence insertion sort. Until the last round of sorting interval is 1, the whole sequence is inserted.\n",
    "\n",
    "|Average Complexity|O(n1.25) O(n × log n)|\n",
    "|---|---|\n",
    "|Best Case|O(n × log n)|\n",
    "|Worst Case|O(n2)|\n",
    "|Space Complexity|O(1)|\n",
    "|Stable?| F|\n",
    "```python\n",
    "class Solution:\n",
    "    def shellSort(self, arr):\n",
    "        size = len(arr)\n",
    "        gap = size // 2\n",
    "        # Divide the array into groups based on the gap value\n",
    "        while gap > 0:\n",
    "            # Perform insertion sort for each group\n",
    "            for i in range(gap, size):\n",
    "                # temp holds the first element of the unsorted sequence in each group\n",
    "                temp = arr[i]\n",
    "                j = i\n",
    "                # Traverse the sorted portion of each group from right to left\n",
    "                while j >= gap and arr[j - gap] > temp:\n",
    "                    # Shift elements to the right of the insertion point one position to the right within the group\n",
    "                    arr[j] = arr[j - gap]\n",
    "                    j -= gap\n",
    "                # Insert the element at the appropriate position within the group\n",
    "                arr[j] = temp\n",
    "            # Reduce the gap size for the next iteration\n",
    "            gap = gap // 2\n",
    "        return arr\n",
    "\n",
    "    def sortArray(self, nums: List[int]) -> List[int]:\n",
    "        # Sort the array using the shellSort method\n",
    "        return self.shellSort(nums)\n",
    "```\n"
   ]
  },
  {
   "cell_type": "code",
   "execution_count": null,
   "metadata": {},
   "outputs": [],
   "source": []
  }
 ],
 "metadata": {
  "kernelspec": {
   "display_name": "Python 3",
   "language": "python",
   "name": "python3"
  },
  "language_info": {
   "codemirror_mode": {
    "name": "ipython",
    "version": 3
   },
   "file_extension": ".py",
   "mimetype": "text/x-python",
   "name": "python",
   "nbconvert_exporter": "python",
   "pygments_lexer": "ipython3",
   "version": "3.10.11"
  },
  "orig_nbformat": 4
 },
 "nbformat": 4,
 "nbformat_minor": 2
}
